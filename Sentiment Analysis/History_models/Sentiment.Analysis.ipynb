{
 "cells": [
  {
   "cell_type": "code",
   "execution_count": null,
   "id": "09d81668-ce8d-4fbe-abc7-341bc6254916",
   "metadata": {},
   "outputs": [],
   "source": [
    "import pandas as pd\n",
    "import numpy as np\n",
    "from scipy.special import softmax\n",
    "from transformers import AutoTokenizer, AutoModelForSequenceClassification\n",
    "\n",
    "# Load the Excel file\n",
    "file_path = 'path/to/your/excel/file.xlsx'  # Replace with your file path\n",
    "df = pd.read_excel(file_path)\n"
   ]
  },
  {
   "cell_type": "code",
   "execution_count": null,
   "id": "c0642af5-61c6-4b7e-b074-6f9e668e53f3",
   "metadata": {},
   "outputs": [],
   "source": [
    "# Load the Arabic model\n",
    "tokenizer = AutoTokenizer.from_pretrained(\"asafaya/bert-base-arabic-sentiment\")\n",
    "model = AutoModelForSequenceClassification.from_pretrained(\"asafaya/bert-base-arabic-sentiment\")"
   ]
  },
  {
   "cell_type": "code",
   "execution_count": null,
   "id": "1d0f4ced-9433-4250-8a89-25890e68f862",
   "metadata": {},
   "outputs": [],
   "source": [
    "def polarity_scores_arabic(example):\n",
    "    encoded_text = tokenizer(example, return_tensors='pt')\n",
    "    output = model(**encoded_text)\n",
    "    scores = output[0][0].detach().numpy()\n",
    "    scores = softmax(scores)\n",
    "    scores_dict = {\n",
    "        'arabic_neg': scores[0],\n",
    "        'arabic_neu': scores[1],\n",
    "        'arabic_pos': scores[2]\n",
    "    }\n",
    "    return scores_dict\n",
    "\n"
   ]
  },
  {
   "cell_type": "code",
   "execution_count": null,
   "id": "674b19af-970a-4701-883d-3de8d7a4f2e4",
   "metadata": {},
   "outputs": [],
   "source": [
    "# Initialize an empty list to store results\n",
    "results = []\n",
    "\n",
    "# Iterate through the rows of the DataFrame\n",
    "for index, row in df.iterrows():\n",
    "    sentiment_scores = polarity_scores_arabic(row['Feed'])\n",
    "    predicted_sentiment = max(sentiment_scores, key=sentiment_scores.get)\n"
   ]
  },
  {
   "cell_type": "code",
   "execution_count": null,
   "id": "14237743-56ad-483f-b56c-1db2b95be0c5",
   "metadata": {},
   "outputs": [],
   "source": [
    " # Map the predicted sentiment back to a human-readable format\n",
    "    if predicted_sentiment == 'arabic_neg':\n",
    "        sentiment = 'سلبي'  # Negative\n",
    "    elif predicted_sentiment == 'arabic_neu':\n",
    "        sentiment = 'محايد'  # Neutral\n",
    "    else:\n",
    "        sentiment = 'إيجابي'  # Positive\n",
    "    \n",
    "    results.append({\n",
    "        'ID': row['ID'],\n",
    "        'Feed': row['Feed'],\n",
    "       # Add the sentiment classification\n",
    "        'التصنيف': sentiment \n",
    "    })"
   ]
  },
  {
   "cell_type": "code",
   "execution_count": null,
   "id": "1d04d8ef-4a87-4cfe-818a-5e7a14442af4",
   "metadata": {},
   "outputs": [],
   "source": [
    "# Create a new DataFrame from the results\n",
    "results_df = pd.DataFrame(results)\n",
    "\n",
    "# Display the results\n",
    "print(results_df.head()) "
   ]
  }
 ],
 "metadata": {
  "kernelspec": {
   "display_name": "Python 3 (ipykernel)",
   "language": "python",
   "name": "python3"
  },
  "language_info": {
   "codemirror_mode": {
    "name": "ipython",
    "version": 3
   },
   "file_extension": ".py",
   "mimetype": "text/x-python",
   "name": "python",
   "nbconvert_exporter": "python",
   "pygments_lexer": "ipython3",
   "version": "3.12.4"
  }
 },
 "nbformat": 4,
 "nbformat_minor": 5
}
